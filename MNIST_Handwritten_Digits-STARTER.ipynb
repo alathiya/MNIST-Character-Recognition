{
 "cells": [
  {
   "cell_type": "markdown",
   "metadata": {},
   "source": [
    "# Introduction\n",
    "\n",
    "In this project, you will build a neural network of your own design to evaluate the MNIST dataset.\n",
    "\n",
    "Some of the benchmark results on MNIST include can be found [on Yann LeCun's page](http://yann.lecun.com/exdb/mnist/) and include:\n",
    "\n",
    "88% [Lecun et al., 1998](http://yann.lecun.com/exdb/publis/pdf/lecun-98.pdf)\n",
    "95.3% [Lecun et al., 1998](http://yann.lecun.com/exdb/publis/pdf/lecun-98.pdf)\n",
    "99.65% [Ciresan et al., 2011](http://people.idsia.ch/~juergen/ijcai2011.pdf)\n",
    "\n",
    "MNIST is a great dataset for sanity checking your models, since the accuracy levels achieved by large convolutional neural networks and small linear models are both quite high. This makes it important to be familiar with the data.\n",
    "\n",
    "## Imports"
   ]
  },
  {
   "cell_type": "code",
   "execution_count": 1,
   "metadata": {},
   "outputs": [],
   "source": [
    "## This cell contains the essential imports you will need – DO NOT CHANGE THE CONTENTS! ##\n",
    "import torch\n",
    "import torch.nn as nn\n",
    "import torch.nn.functional as F\n",
    "import torch.optim as optim\n",
    "import torchvision\n",
    "import torchvision.transforms as transforms\n",
    "import matplotlib.pyplot as plt\n",
    "import numpy as np\n",
    "from torch.utils.data.sampler import SubsetRandomSampler\n",
    "import matplotlib.pyplot as plt"
   ]
  },
  {
   "cell_type": "markdown",
   "metadata": {},
   "source": [
    "## Load the Dataset\n",
    "\n",
    "Specify your transforms as a list if you intend to .\n",
    "The transforms module is already loaded as `transforms`.\n",
    "\n",
    "MNIST is fortunately included in the torchvision module.\n",
    "Then, you can create your dataset using the `MNIST` object from `torchvision.datasets` ([the documentation is available here](https://pytorch.org/vision/stable/datasets.html#mnist)).\n",
    "Make sure to specify `download=True`! \n",
    "\n",
    "Once your dataset is created, you'll also need to define a `DataLoader` from the `torch.utils.data` module for both the train and the test set."
   ]
  },
  {
   "cell_type": "code",
   "execution_count": 2,
   "metadata": {},
   "outputs": [],
   "source": [
    "# Define transforms\n",
    "## YOUR CODE HERE ##\n",
    "train_transform = transforms.Compose([\n",
    "            transforms.RandomRotation(20),\n",
    "            transforms.RandomHorizontalFlip(),\n",
    "            transforms.ToTensor(),\n",
    "            transforms.Normalize((0.5, 0.5, 0.5), (0.5, 0.5, 0.5))\n",
    "        ])\n",
    "\n",
    "valid_transform = transforms.Compose([\n",
    "            transforms.ToTensor(),\n",
    "            transforms.Normalize((0.5, 0.5, 0.5), (0.5, 0.5, 0.5))\n",
    "        ])\n",
    "\n",
    "# Create training set and define training dataloader\n",
    "## YOUR CODE HERE ##\n",
    "valid_size = 0.2\n",
    "train_dataset = torchvision.datasets.MNIST('MNIST_Data', train=True, \n",
    "                download=True, transform=train_transform)\n",
    "\n",
    "valid_dataset = torchvision.datasets.MNIST('MNIST_Data', train=True, \n",
    "                download=True, transform=valid_transform)\n",
    "    \n",
    "num_train = len(train_dataset)\n",
    "indices = list(range(num_train))\n",
    "split = int(np.floor(valid_size * num_train))\n",
    "\n",
    "random_seed = 40\n",
    "np.random.seed(random_seed)\n",
    "np.random.shuffle(indices)\n",
    "\n",
    "train_idx, valid_idx = indices[split:], indices[:split]\n",
    "\n",
    "train_sampler = SubsetRandomSampler(train_idx)\n",
    "valid_sampler = SubsetRandomSampler(valid_idx)\n",
    "\n",
    "train_loader = torch.utils.data.DataLoader(train_dataset, \n",
    "                    batch_size=256, sampler=train_sampler)\n",
    "\n",
    "valid_loader = torch.utils.data.DataLoader(valid_dataset, \n",
    "                    batch_size=256, sampler=valid_sampler)\n",
    "    \n",
    "# Create test set and define test dataloader\n",
    "## YOUR CODE HERE ##\n",
    "testset = torchvision.datasets.MNIST('MNIST_data/', download=True, train=False, transform=valid_transform)\n",
    "test_loader = torch.utils.data.DataLoader(testset, batch_size=256, shuffle=True)"
   ]
  },
  {
   "cell_type": "markdown",
   "metadata": {},
   "source": [
    "## Justify your preprocessing\n",
    "\n",
    "In your own words, why did you choose the transforms you chose? If you didn't use any preprocessing steps, why not?"
   ]
  },
  {
   "cell_type": "markdown",
   "metadata": {},
   "source": [
    "**Image Augmentation** \n",
    "RandomRotation and HorizationFlip transforms are applied to images in training dataset. These transform should randomly rotate images upto 20 degree and flip the images horizontally. These transform are applied to reduce the overfitting in image data. Real world images may not come in perfect representation. Real world images from OCR application can have letters twisted, rotated and could be flipped as well. Accounting for these Transform ensures model does not memorize the exact representation of these images. Applying transforms makes model learn varied distribution of images. \n",
    "\n",
    "**Normalization** \n",
    "Normalization is applied to training, validation and testing dataset images so that model can reach convergence sooner while training. \n",
    "\n",
    "**Tensor conversion**\n",
    "ToTensor() is applied to all datasets to convert the datasets into tensor representation "
   ]
  },
  {
   "cell_type": "markdown",
   "metadata": {},
   "source": [
    "## Explore the Dataset\n",
    "Using matplotlib, numpy, and torch, explore the dimensions of your data.\n",
    "\n",
    "You can view images using the `show5` function defined below – it takes a data loader as an argument.\n",
    "Remember that normalized images will look really weird to you! You may want to try changing your transforms to view images.\n",
    "Typically using no transforms other than `toTensor()` works well for viewing – but not as well for training your network.\n",
    "If `show5` doesn't work, go back and check your code for creating your data loaders and your training/test sets."
   ]
  },
  {
   "cell_type": "code",
   "execution_count": 3,
   "metadata": {},
   "outputs": [],
   "source": [
    "## This cell contains a function for showing 5 images from a dataloader – DO NOT CHANGE THE CONTENTS! ##\n",
    "def show5(img_loader):\n",
    "    dataiter = iter(img_loader)\n",
    "    \n",
    "    batch = next(dataiter)\n",
    "    labels = batch[1][0:5]\n",
    "    images = batch[0][0:5]\n",
    "    for i in range(5):\n",
    "        print(int(labels[i].detach()))\n",
    "    \n",
    "        image = images[i].numpy()\n",
    "        plt.imshow(image.T.squeeze().T)\n",
    "        plt.show()"
   ]
  },
  {
   "cell_type": "code",
   "execution_count": 4,
   "metadata": {},
   "outputs": [
    {
     "name": "stdout",
     "output_type": "stream",
     "text": [
      "5\n"
     ]
    },
    {
     "data": {
      "image/png": "[encoded data removed]",
      "text/plain": [
       "<matplotlib.figure.Figure at 0x7f7a737c25c0>"
      ]
     },
     "metadata": {
      "needs_background": "light"
     },
     "output_type": "display_data"
    },
    {
     "name": "stdout",
     "output_type": "stream",
     "text": [
      "5\n"
     ]
    },
    {
     "data": {
      "image/png": "[encoded data removed]",
      "text/plain": [
       "<matplotlib.figure.Figure at 0x7f7a6d44b7f0>"
      ]
     },
     "metadata": {
      "needs_background": "light"
     },
     "output_type": "display_data"
    },
    {
     "name": "stdout",
     "output_type": "stream",
     "text": [
      "1\n"
     ]
    },
    {
     "data": {
      "image/png": "[encoded data removed]",
      "text/plain": [
       "<matplotlib.figure.Figure at 0x7f7a6b3f07b8>"
      ]
     },
     "metadata": {
      "needs_background": "light"
     },
     "output_type": "display_data"
    },
    {
     "name": "stdout",
     "output_type": "stream",
     "text": [
      "9\n"
     ]
    },
    {
     "data": {
      "image/png": "[encoded data removed]",
      "text/plain": [
       "<matplotlib.figure.Figure at 0x7f7a6b3c6860>"
      ]
     },
     "metadata": {
      "needs_background": "light"
     },
     "output_type": "display_data"
    },
    {
     "name": "stdout",
     "output_type": "stream",
     "text": [
      "4\n"
     ]
    },
    {
     "data": {
      "image/png": "[encoded data removed]",
      "text/plain": [
       "<matplotlib.figure.Figure at 0x7f7a6b3114a8>"
      ]
     },
     "metadata": {
      "needs_background": "light"
     },
     "output_type": "display_data"
    }
   ],
   "source": [
    "# Explore data\n",
    "## YOUR CODE HERE ##\n",
    "show5(train_loader)"
   ]
  },
  {
   "cell_type": "code",
   "execution_count": 31,
   "metadata": {},
   "outputs": [
    {
     "name": "stdout",
     "output_type": "stream",
     "text": [
      "8\n"
     ]
    },
    {
     "data": {
      "image/png": "[encoded data removed]",
      "text/plain": [
       "<matplotlib.figure.Figure at 0x7f7a6b2d9470>"
      ]
     },
     "metadata": {
      "needs_background": "light"
     },
     "output_type": "display_data"
    },
    {
     "name": "stdout",
     "output_type": "stream",
     "text": [
      "5\n"
     ]
    },
    {
     "data": {
      "image/png": "[encoded data removed]",
      "text/plain": [
       "<matplotlib.figure.Figure at 0x7f7a6d4335f8>"
      ]
     },
     "metadata": {
      "needs_background": "light"
     },
     "output_type": "display_data"
    },
    {
     "name": "stdout",
     "output_type": "stream",
     "text": [
      "5\n"
     ]
    },
    {
     "data": {
      "image/png": "[encoded data removed]",
      "text/plain": [
       "<matplotlib.figure.Figure at 0x7f7a6b39ada0>"
      ]
     },
     "metadata": {
      "needs_background": "light"
     },
     "output_type": "display_data"
    },
    {
     "name": "stdout",
     "output_type": "stream",
     "text": [
      "7\n"
     ]
    },
    {
     "data": {
      "image/png": "[encoded data removed]",
      "text/plain": [
       "<matplotlib.figure.Figure at 0x7f7a6b320710>"
      ]
     },
     "metadata": {
      "needs_background": "light"
     },
     "output_type": "display_data"
    },
    {
     "name": "stdout",
     "output_type": "stream",
     "text": [
      "4\n"
     ]
    },
    {
     "data": {
      "image/png": "[encoded data removed]",
      "text/plain": [
       "<matplotlib.figure.Figure at 0x7f7a6a1c0f60>"
      ]
     },
     "metadata": {
      "needs_background": "light"
     },
     "output_type": "display_data"
    }
   ],
   "source": [
    "show5(test_loader)"
   ]
  },
  {
   "cell_type": "code",
   "execution_count": 37,
   "metadata": {},
   "outputs": [
    {
     "name": "stdout",
     "output_type": "stream",
     "text": [
      "Train Image size:  torch.Size([5, 1, 28, 28])\n",
      "Number of Training Batches:  188\n"
     ]
    }
   ],
   "source": [
    "dataiter = iter(train_loader)\n",
    "    \n",
    "batch = next(dataiter)\n",
    "images = batch[0][0:5]\n",
    "\n",
    "print(\"Train Image size: \", images.size()) \n",
    "print(\"Number of Training Batches: \", len(dataiter))"
   ]
  },
  {
   "cell_type": "code",
   "execution_count": 38,
   "metadata": {},
   "outputs": [
    {
     "name": "stdout",
     "output_type": "stream",
     "text": [
      "Test Image size:  torch.Size([5, 1, 28, 28])\n",
      "Number of Testing Batches:  40\n"
     ]
    }
   ],
   "source": [
    "dataiter = iter(test_loader)\n",
    "    \n",
    "batch = next(dataiter)\n",
    "images = batch[0][0:5]\n",
    "\n",
    "print(\"Test Image size: \", images.size())\n",
    "print(\"Number of Testing Batches: \", len(dataiter))"
   ]
  },
  {
   "cell_type": "markdown",
   "metadata": {},
   "source": [
    "## Build your Neural Network\n",
    "Using the layers in `torch.nn` (which has been imported as `nn`) and the `torch.nn.functional` module (imported as `F`), construct a neural network based on the parameters of the dataset.\n",
    "Use any architecture you like. \n",
    "\n",
    "*Note*: If you did not flatten your tensors in your transforms or as part of your preprocessing and you are using only `Linear` layers, make sure to use the `Flatten` layer in your network!"
   ]
  },
  {
   "cell_type": "code",
   "execution_count": 5,
   "metadata": {},
   "outputs": [],
   "source": [
    "## YOUR CODE HERE ##\n",
    "class Network(nn.Module):\n",
    "    def __init__(self):\n",
    "        super().__init__()\n",
    "        # Define neural network layers\n",
    "        self.fc1 = nn.Linear(784,300)\n",
    "        self.fc2 = nn.Linear(300,10)\n",
    "   \n",
    "    def forward(self,x):\n",
    "        '''Forward pass through the network and returns ouput logits'''\n",
    "        x = self.fc1(x)\n",
    "        x = F.relu(x)\n",
    "        x = self.fc2(x)\n",
    "        \n",
    "        return x\n",
    "    \n",
    "    def predict(self, x):\n",
    "        '''This function predicts the classes by calculating softmax'''\n",
    "        # x = torch.flatten(x, 1)\n",
    "        logits = self.forward(x)\n",
    "        return F.softmax(logits,dim=1)"
   ]
  },
  {
   "cell_type": "markdown",
   "metadata": {},
   "source": [
    "Specify a loss function and an optimizer, and instantiate the model.\n",
    "\n",
    "If you use a less common loss function, please note why you chose that loss function in a comment."
   ]
  },
  {
   "cell_type": "code",
   "execution_count": 6,
   "metadata": {},
   "outputs": [],
   "source": [
    "## YOUR CODE HERE ##\n",
    "model = Network()\n",
    "optimizer = optim.Adam(model.parameters(),lr=0.001)\n",
    "criterion = nn.CrossEntropyLoss()"
   ]
  },
  {
   "cell_type": "markdown",
   "metadata": {},
   "source": [
    "## Running your Neural Network\n",
    "Use whatever method you like to train your neural network, and ensure you record the average loss at each epoch. \n",
    "Don't forget to use `torch.device()` and the `.to()` method for both your model and your data if you are using GPU!\n",
    "\n",
    "If you want to print your loss **during** each epoch, you can use the `enumerate` function and print the loss after a set number of batches. 250 batches works well for most people!"
   ]
  },
  {
   "cell_type": "code",
   "execution_count": 11,
   "metadata": {},
   "outputs": [],
   "source": [
    "## YOUR CODE HERE ##\n",
    "def train(epochs, model, train_loader, valid_loader):\n",
    "    \n",
    "    training_loss = []\n",
    "    training_acc = []\n",
    "    validation_loss = []\n",
    "    validation_acc = []\n",
    "\n",
    "    #Move model to GPU\n",
    "    if torch.cuda.is_available():\n",
    "        model.cuda()\n",
    "\n",
    "    epochs = epochs\n",
    "    #step = 0\n",
    "    #print_every = 100 \n",
    "    trainloss = 0\n",
    "    trainaccuracy = 0\n",
    "\n",
    "    for e in range(epochs):\n",
    "    \n",
    "        # Model in training mode\n",
    "        model.train()\n",
    "    \n",
    "        for inputs,labels in iter(train_loader):\n",
    "            #step += 1    \n",
    "        \n",
    "            optimizer.zero_grad()\n",
    "        \n",
    "            #Move input and labels to GPU\n",
    "            if torch.cuda.is_available():\n",
    "                inputs = inputs.cuda()\n",
    "                labels = labels.cuda()\n",
    "        \n",
    "            inputs = inputs.view(inputs.shape[0], -1)\n",
    "            outputs = model.forward(inputs)\n",
    "            trainloss = criterion(outputs,labels)\n",
    "            trainloss.backward()\n",
    "            optimizer.step()\n",
    "        \n",
    "            # Training Loss\n",
    "            trainloss += trainloss.data[0]\n",
    "        \n",
    "            # Output will be exp of logmax \n",
    "            trainps = torch.exp(outputs).data\n",
    "                \n",
    "            # Take max probability and compare with label class \n",
    "            trainequality = (labels.data == trainps.max(1)[1])\n",
    "                \n",
    "            # Calculate accuracy mean on training batch.  \n",
    "            trainaccuracy += trainequality.type_as(torch.FloatTensor()).mean()\n",
    "        \n",
    "    \n",
    "        # Model in inference mode\n",
    "        model.eval()\n",
    "        validloss = 0 \n",
    "        validaccuracy = 0 \n",
    "            \n",
    "        for inputs, labels in iter(valid_loader):\n",
    "            \n",
    "            # Move input and label to GPU\n",
    "            if torch.cuda.is_available():\n",
    "                inputs = inputs.cuda()\n",
    "                labels = labels.cuda()\n",
    "            \n",
    "            inputs = inputs.view(inputs.shape[0], -1)\n",
    "            outputs = model.forward(inputs)\n",
    "            validloss += criterion(outputs,labels).data[0]\n",
    "                \n",
    "            # Output will be exp of logmax \n",
    "            validps = torch.exp(outputs).data\n",
    "                \n",
    "            # Take max probability and compare with label class \n",
    "            validequality = (labels.data == validps.max(1)[1])\n",
    "                \n",
    "            # Calculate accuracy mean on validation batch.  \n",
    "            validaccuracy += validequality.type_as(torch.FloatTensor()).mean()\n",
    "                \n",
    "                \n",
    "            \n",
    "        print(\"\\nEpoch: {}/{}.. \".format(e, epochs))\n",
    "        print(\"Training Loss: {:.4f}\".format(trainloss.data[0]/len(train_loader)))\n",
    "        print(\"Training Accuracy: {:.4f}\".format(trainaccuracy/len(train_loader)))\n",
    "        print(\"Validation Loss: {:.4f}.. \".format(validloss/len(valid_loader)))\n",
    "        print(\"Validation Accuracy: {:.4f}\".format(validaccuracy/len(valid_loader)))\n",
    "\n",
    "        training_loss.append(trainloss.data[0]/len(train_loader))\n",
    "        training_acc.append((trainaccuracy/len(train_loader)))\n",
    "        validation_loss.append((validloss/len(valid_loader)))\n",
    "        validation_acc.append((validaccuracy/len(valid_loader)))\n",
    "            \n",
    "            \n",
    "        trainloss = 0\n",
    "        trainaccuracy = 0\n",
    "        # Make sure dropout is on for training\n",
    "        model.train()\n",
    "        \n",
    "    print('Execution Finished')\n",
    "    return training_loss, training_acc, validation_loss, validation_acc, model"
   ]
  },
  {
   "cell_type": "code",
   "execution_count": 12,
   "metadata": {},
   "outputs": [
    {
     "name": "stderr",
     "output_type": "stream",
     "text": [
      "/opt/conda/lib/python3.6/site-packages/ipykernel_launcher.py:41: UserWarning: invalid index of a 0-dim tensor. This will be an error in PyTorch 0.5. Use tensor.item() to convert a 0-dim tensor to a Python number\n",
      "/opt/conda/lib/python3.6/site-packages/ipykernel_launcher.py:67: UserWarning: invalid index of a 0-dim tensor. This will be an error in PyTorch 0.5. Use tensor.item() to convert a 0-dim tensor to a Python number\n"
     ]
    },
    {
     "name": "stdout",
     "output_type": "stream",
     "text": [
      "\n",
      "Epoch: 0/5.. \n",
      "Training Loss: 0.0039\n",
      "Training Accuracy: 0.8445\n",
      "Validation Loss: 0.3413.. \n",
      "Validation Accuracy: 0.8971\n"
     ]
    },
    {
     "name": "stderr",
     "output_type": "stream",
     "text": [
      "/opt/conda/lib/python3.6/site-packages/ipykernel_launcher.py:81: UserWarning: invalid index of a 0-dim tensor. This will be an error in PyTorch 0.5. Use tensor.item() to convert a 0-dim tensor to a Python number\n",
      "/opt/conda/lib/python3.6/site-packages/ipykernel_launcher.py:86: UserWarning: invalid index of a 0-dim tensor. This will be an error in PyTorch 0.5. Use tensor.item() to convert a 0-dim tensor to a Python number\n"
     ]
    },
    {
     "name": "stdout",
     "output_type": "stream",
     "text": [
      "\n",
      "Epoch: 1/5.. \n",
      "Training Loss: 0.0038\n",
      "Training Accuracy: 0.8847\n",
      "Validation Loss: 0.2688.. \n",
      "Validation Accuracy: 0.9187\n",
      "\n",
      "Epoch: 2/5.. \n",
      "Training Loss: 0.0028\n",
      "Training Accuracy: 0.9065\n",
      "Validation Loss: 0.2272.. \n",
      "Validation Accuracy: 0.9304\n",
      "\n",
      "Epoch: 3/5.. \n",
      "Training Loss: 0.0015\n",
      "Training Accuracy: 0.9175\n",
      "Validation Loss: 0.2173.. \n",
      "Validation Accuracy: 0.9348\n",
      "\n",
      "Epoch: 4/5.. \n",
      "Training Loss: 0.0029\n",
      "Training Accuracy: 0.9208\n",
      "Validation Loss: 0.1910.. \n",
      "Validation Accuracy: 0.9443\n",
      "Execution Finished\n"
     ]
    }
   ],
   "source": [
    "training_loss, training_acc, validation_loss, validation_acc, model = train(5, model, train_loader, valid_loader)"
   ]
  },
  {
   "cell_type": "markdown",
   "metadata": {},
   "source": [
    "Plot the training loss (and validation loss/accuracy, if recorded)."
   ]
  },
  {
   "cell_type": "code",
   "execution_count": 14,
   "metadata": {},
   "outputs": [
    {
     "data": {
      "text/plain": [
       "[]"
      ]
     },
     "execution_count": 14,
     "metadata": {},
     "output_type": "execute_result"
    },
    {
     "data": {
      "image/png": "[encoded data removed]",
      "text/plain": [
       "<matplotlib.figure.Figure at 0x7f7a6b2eab38>"
      ]
     },
     "metadata": {
      "needs_background": "light"
     },
     "output_type": "display_data"
    }
   ],
   "source": [
    "## YOUR CODE HERE ##\n",
    "# Accuracy plots\n",
    "epochs = 5\n",
    "plt.plot(range(epochs), training_acc, label=\"Training Accuracy\")\n",
    "plt.plot(range(epochs), validation_acc, label=\"Validation Accuracy\")\n",
    "plt.legend()\n",
    "plt.xlabel(\"epochs\")\n",
    "plt.ylabel(\"Training/Validation Accuracy\")\n",
    "plt.plot()"
   ]
  },
  {
   "cell_type": "code",
   "execution_count": 15,
   "metadata": {},
   "outputs": [
    {
     "data": {
      "text/plain": [
       "[]"
      ]
     },
     "execution_count": 15,
     "metadata": {},
     "output_type": "execute_result"
    },
    {
     "data": {
      "image/png": "[encoded data removed]",
      "text/plain": [
       "<matplotlib.figure.Figure at 0x7f7a6b2fea20>"
      ]
     },
     "metadata": {
      "needs_background": "light"
     },
     "output_type": "display_data"
    }
   ],
   "source": [
    "# Loss plots\n",
    "epochs=5\n",
    "plt.plot(range(epochs), training_loss, label=\"Training Loss\")\n",
    "plt.plot(range(epochs), validation_loss, label=\"Validation Loss\")\n",
    "plt.legend()\n",
    "plt.xlabel(\"epochs\")\n",
    "plt.ylabel(\"Training/Validation Accuracy\")\n",
    "plt.plot()"
   ]
  },
  {
   "cell_type": "markdown",
   "metadata": {},
   "source": [
    "## Testing your model\n",
    "Using the previously created `DataLoader` for the test set, compute the percentage of correct predictions using the highest probability prediction. \n",
    "\n",
    "If your accuracy is over 90%, great work, but see if you can push a bit further! \n",
    "If your accuracy is under 90%, you'll need to make improvements.\n",
    "Go back and check your model architecture, loss function, and optimizer to make sure they're appropriate for an image classification task."
   ]
  },
  {
   "cell_type": "code",
   "execution_count": 16,
   "metadata": {},
   "outputs": [],
   "source": [
    "## YOUR CODE HERE ##\n",
    "\n",
    "def test(model, test_loader):\n",
    "    testloss = 0 \n",
    "    testaccuracy = 0 \n",
    "\n",
    "    for inputs, labels in iter(test_loader):\n",
    "    \n",
    "        \n",
    "        # Move input, labels and model to GPU\n",
    "        if torch.cuda.is_available():\n",
    "            inputs = inputs.cuda()\n",
    "            labels = labels.cuda()\n",
    "            model = model.cuda()\n",
    "    \n",
    "        inputs = inputs.view(inputs.shape[0], -1)\n",
    "        outputs = model.forward(inputs)\n",
    "        #testloss += criterion(outputs,labels).data[0]\n",
    "    \n",
    "        testps = torch.exp(outputs).data\n",
    "    \n",
    "        # Take max probability and compare with label class\n",
    "        testequality = (labels.data == testps.max(1)[1])\n",
    "    \n",
    "        # Calculate accuracy mean on validation batch.\n",
    "        testaccuracy += testequality.type_as(torch.FloatTensor()).mean()\n",
    "    \n",
    "    print(\"Test Accuracy {:.4f}\".format(testaccuracy/len(test_loader)))  "
   ]
  },
  {
   "cell_type": "code",
   "execution_count": 17,
   "metadata": {},
   "outputs": [
    {
     "name": "stdout",
     "output_type": "stream",
     "text": [
      "Test Accuracy 0.9450\n"
     ]
    }
   ],
   "source": [
    "test(model, test_loader)"
   ]
  },
  {
   "cell_type": "markdown",
   "metadata": {},
   "source": [
    "## Improving your model\n",
    "\n",
    "Once your model is done training, try tweaking your hyperparameters and training again below to improve your accuracy on the test set!"
   ]
  },
  {
   "cell_type": "code",
   "execution_count": 22,
   "metadata": {},
   "outputs": [],
   "source": [
    "## YOUR CODE HERE ##\n",
    "# Increased the complexity of network by adding more hidden layer\n",
    "# To reduce overfitting added dropout layer\n",
    "# Increased the number of epochs\n",
    "\n",
    "## YOUR CODE HERE ##\n",
    "class Network(nn.Module):\n",
    "    def __init__(self):\n",
    "        super().__init__()\n",
    "        # Define neural network layers\n",
    "        self.fc1 = nn.Linear(784,500)\n",
    "        self.fc2 = nn.Linear(500,200)\n",
    "        self.fc3 = nn.Linear(200,10)\n",
    "        self.dropout = nn.Dropout(0.20)\n",
    "   \n",
    "    def forward(self,x):\n",
    "        '''Forward pass through the network and returns ouput logits'''\n",
    "        x = self.fc1(x)\n",
    "        x = F.relu(x)\n",
    "        x = self.fc2(x)\n",
    "        x = F.relu(x)\n",
    "        x = self.dropout(x)\n",
    "        x = self.fc3(x)\n",
    "        \n",
    "        return x\n",
    "    \n",
    "    def predict(self, x):\n",
    "        '''This function predicts the classes by calculating softmax'''\n",
    "        # x = torch.flatten(x, 1)\n",
    "        logits = self.forward(x)\n",
    "        return F.softmax(logits,dim=1)"
   ]
  },
  {
   "cell_type": "code",
   "execution_count": 23,
   "metadata": {},
   "outputs": [
    {
     "name": "stderr",
     "output_type": "stream",
     "text": [
      "/opt/conda/lib/python3.6/site-packages/ipykernel_launcher.py:41: UserWarning: invalid index of a 0-dim tensor. This will be an error in PyTorch 0.5. Use tensor.item() to convert a 0-dim tensor to a Python number\n",
      "/opt/conda/lib/python3.6/site-packages/ipykernel_launcher.py:67: UserWarning: invalid index of a 0-dim tensor. This will be an error in PyTorch 0.5. Use tensor.item() to convert a 0-dim tensor to a Python number\n"
     ]
    },
    {
     "name": "stdout",
     "output_type": "stream",
     "text": [
      "\n",
      "Epoch: 0/10.. \n",
      "Training Loss: 0.0055\n",
      "Training Accuracy: 0.7494\n",
      "Validation Loss: 0.4363.. \n",
      "Validation Accuracy: 0.8547\n"
     ]
    },
    {
     "name": "stderr",
     "output_type": "stream",
     "text": [
      "/opt/conda/lib/python3.6/site-packages/ipykernel_launcher.py:81: UserWarning: invalid index of a 0-dim tensor. This will be an error in PyTorch 0.5. Use tensor.item() to convert a 0-dim tensor to a Python number\n",
      "/opt/conda/lib/python3.6/site-packages/ipykernel_launcher.py:86: UserWarning: invalid index of a 0-dim tensor. This will be an error in PyTorch 0.5. Use tensor.item() to convert a 0-dim tensor to a Python number\n"
     ]
    },
    {
     "name": "stdout",
     "output_type": "stream",
     "text": [
      "\n",
      "Epoch: 1/10.. \n",
      "Training Loss: 0.0042\n",
      "Training Accuracy: 0.8653\n",
      "Validation Loss: 0.2804.. \n",
      "Validation Accuracy: 0.9117\n",
      "\n",
      "Epoch: 2/10.. \n",
      "Training Loss: 0.0024\n",
      "Training Accuracy: 0.8964\n",
      "Validation Loss: 0.2109.. \n",
      "Validation Accuracy: 0.9302\n",
      "\n",
      "Epoch: 3/10.. \n",
      "Training Loss: 0.0036\n",
      "Training Accuracy: 0.9115\n",
      "Validation Loss: 0.1915.. \n",
      "Validation Accuracy: 0.9381\n",
      "\n",
      "Epoch: 4/10.. \n",
      "Training Loss: 0.0038\n",
      "Training Accuracy: 0.9235\n",
      "Validation Loss: 0.1547.. \n",
      "Validation Accuracy: 0.9507\n",
      "\n",
      "Epoch: 5/10.. \n",
      "Training Loss: 0.0028\n",
      "Training Accuracy: 0.9289\n",
      "Validation Loss: 0.1482.. \n",
      "Validation Accuracy: 0.9531\n",
      "\n",
      "Epoch: 6/10.. \n",
      "Training Loss: 0.0027\n",
      "Training Accuracy: 0.9351\n",
      "Validation Loss: 0.1485.. \n",
      "Validation Accuracy: 0.9517\n",
      "\n",
      "Epoch: 7/10.. \n",
      "Training Loss: 0.0006\n",
      "Training Accuracy: 0.9393\n",
      "Validation Loss: 0.1367.. \n",
      "Validation Accuracy: 0.9564\n",
      "\n",
      "Epoch: 8/10.. \n",
      "Training Loss: 0.0011\n",
      "Training Accuracy: 0.9426\n",
      "Validation Loss: 0.1254.. \n",
      "Validation Accuracy: 0.9596\n",
      "\n",
      "Epoch: 9/10.. \n",
      "Training Loss: 0.0004\n",
      "Training Accuracy: 0.9452\n",
      "Validation Loss: 0.1202.. \n",
      "Validation Accuracy: 0.9615\n",
      "Execution Finished\n"
     ]
    }
   ],
   "source": [
    "model = Network()\n",
    "optimizer = optim.Adam(model.parameters(),lr=0.001)\n",
    "criterion = nn.CrossEntropyLoss()\n",
    "\n",
    "training_loss, training_acc, validation_loss, validation_acc, model = train(10, model, train_loader, valid_loader)"
   ]
  },
  {
   "cell_type": "code",
   "execution_count": 24,
   "metadata": {},
   "outputs": [
    {
     "name": "stdout",
     "output_type": "stream",
     "text": [
      "Test Accuracy 0.9559\n"
     ]
    }
   ],
   "source": [
    "test(model, test_loader)"
   ]
  },
  {
   "cell_type": "markdown",
   "metadata": {},
   "source": [
    "## Saving your model\n",
    "Using `torch.save`, save your model for future loading."
   ]
  },
  {
   "cell_type": "code",
   "execution_count": 25,
   "metadata": {},
   "outputs": [],
   "source": [
    "## YOUR CODE HERE ##\n",
    "\n",
    "# Define checkpoint with parameters to be saved\n",
    "checkpoint = {'input_size': 784,\n",
    "              'output_size': 10, \n",
    "              'epochs': 10,\n",
    "              'hidden_layer': [500,200],\n",
    "              'learning_rate': 0.001,\n",
    "              'state_dict': model.state_dict()}\n",
    "\n",
    "#Save checkpoint\n",
    "torch.save(checkpoint,'checkpoint.pth')"
   ]
  },
  {
   "cell_type": "code",
   "execution_count": null,
   "metadata": {},
   "outputs": [],
   "source": []
  }
 ],
 "metadata": {
  "kernelspec": {
   "display_name": "Python 3",
   "language": "python",
   "name": "python3"
  },
  "language_info": {
   "codemirror_mode": {
    "name": "ipython",
    "version": 3
   },
   "file_extension": ".py",
   "mimetype": "text/x-python",
   "name": "python",
   "nbconvert_exporter": "python",
   "pygments_lexer": "ipython3",
   "version": "3.6.3"
  }
 },
 "nbformat": 4,
 "nbformat_minor": 4
}
